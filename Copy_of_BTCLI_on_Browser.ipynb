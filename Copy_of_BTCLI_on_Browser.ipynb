{
  "nbformat": 4,
  "nbformat_minor": 0,
  "metadata": {
    "colab": {
      "provenance": [],
      "include_colab_link": true
    },
    "kernelspec": {
      "name": "python3",
      "display_name": "Python 3"
    },
    "language_info": {
      "name": "python"
    }
  },
  "cells": [
    {
      "cell_type": "markdown",
      "metadata": {
        "id": "view-in-github",
        "colab_type": "text"
      },
      "source": [
        "<a href=\"https://colab.research.google.com/github/M-Brond/TAO_Testnet/blob/main/Copy_of_BTCLI_on_Browser.ipynb\" target=\"_parent\"><img src=\"https://colab.research.google.com/assets/colab-badge.svg\" alt=\"Open In Colab\"/></a>"
      ]
    },
    {
      "cell_type": "code",
      "execution_count": null,
      "metadata": {
        "id": "cNb-f0FnmRDe"
      },
      "outputs": [],
      "source": [
        "# @title Its important that you ALWAYS run this cell first, when you load into the page!\n",
        "!pip install bittensor-cli==8.2.0rc10 colab-xterm"
      ]
    },
    {
      "cell_type": "code",
      "source": [
        "# @title Run this cell after running the cell above to turn on the BTCLI-enabled terminal\n",
        "%load_ext colabxterm\n",
        "%xterm"
      ],
      "metadata": {
        "id": "-X_es349rUce"
      },
      "execution_count": null,
      "outputs": []
    },
    {
      "cell_type": "code",
      "source": [
        "# @title If you ever feel lost in the BTCLI check out the cheatsheet here: https://learnbittensor.org/guides/btcli-cheatsheet"
      ],
      "metadata": {
        "id": "gLIW8mvKqb-e"
      },
      "execution_count": null,
      "outputs": []
    }
  ]
}